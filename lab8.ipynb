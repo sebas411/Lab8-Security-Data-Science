{
 "cells": [
  {
   "cell_type": "markdown",
   "id": "21969328",
   "metadata": {},
   "source": [
    "# Laboratorio 8 - Defensa contra ataques de modelos de Deep Learning"
   ]
  },
  {
   "cell_type": "code",
   "execution_count": null,
   "id": "19e9bc43",
   "metadata": {},
   "outputs": [],
   "source": []
  }
 ],
 "metadata": {
  "kernelspec": {
   "display_name": "tf-kernel",
   "language": "python",
   "name": "tf-kernel"
  },
  "language_info": {
   "codemirror_mode": {
    "name": "ipython",
    "version": 3
   },
   "file_extension": ".py",
   "mimetype": "text/x-python",
   "name": "python",
   "nbconvert_exporter": "python",
   "pygments_lexer": "ipython3",
   "version": "3.9.16"
  }
 },
 "nbformat": 4,
 "nbformat_minor": 5
}
